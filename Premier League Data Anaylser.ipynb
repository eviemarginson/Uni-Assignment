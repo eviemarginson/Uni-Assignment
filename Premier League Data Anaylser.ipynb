{
 "cells": [
  {
   "cell_type": "code",
   "execution_count": null,
   "id": "7fe64c37",
   "metadata": {},
   "outputs": [],
   "source": [
    "# This script appends new data to an existing Excel file containing football club stats for Luton from the 23/24 Premier league season.\n",
    "\n",
    "import pandas as pd\n",
    "\n",
    "# Existing Excel file\n",
    "file_path = r\"C:\\Users\\eviem\\OneDrive\\Documents\\Uni\\Module 2- Digital Maths and Programming\\Uni-Assignment\\Uni-Assignment\\Football Club Stats.zip_unzipped\\Football Club Stats\\Luton Stats.xlsx\"\n",
    "\n",
    "# New data to append\n",
    "new_data = pd.DataFrame({\n",
    "    'Season': ['23/24'],\n",
    "    'Team': ['Luton'],\n",
    "    'Table Position': [18],\n",
    "    'Points': [26],\n",
    "    'Matches Played': [38],\n",
    "    'Wins': [6],\n",
    "    'Losses': [24],\n",
    "    'Draws': [8],\n",
    "    'Goals For': [52],\n",
    "    'Goals Against': [85],\n",
    "    'Goal Difference': [-33],\n",
    "    'Top Scorer': ['Carlton Morris'],\n",
    "    'Red Cards': [0],\n",
    "    'Yellow Cards': [71]})\n",
    "\n",
    "# Read the existing Excel file\n",
    "df_existing = pd.read_excel(file_path)\n",
    "\n",
    "# Append the new data to the existing DataFrame\n",
    "df_new = pd.DataFrame(new_data)\n",
    "df_combined = pd.concat([df_existing, df_new], ignore_index=True)\n",
    "\n",
    "# Write the updated DataFrame back to the Excel file\n",
    "df_combined.to_excel(file_path, index=False)"
   ]
  },
  {
   "cell_type": "code",
   "execution_count": 13,
   "id": "b5175546",
   "metadata": {},
   "outputs": [],
   "source": [
    "# This script combines existing Excel files into a single Excel file containing data for different football clubs for the 23/24 and 24/25 Premier league seasons.\n",
    "\n",
    "import pandas as pd\n",
    "\n",
    "# List of file paths for the football club stats\n",
    "def main():\n",
    "    file_paths = [\n",
    "        r\"C:\\Users\\eviem\\OneDrive\\Documents\\Uni\\Module 2- Digital Maths and Programming\\Uni-Assignment\\Uni-Assignment\\Football Club Stats.zip_unzipped\\Football Club Stats\\Arsenal Stats.xlsx\",\n",
    "        r\"C:\\Users\\eviem\\OneDrive\\Documents\\Uni\\Module 2- Digital Maths and Programming\\Uni-Assignment\\Uni-Assignment\\Football Club Stats.zip_unzipped\\Football Club Stats\\Aston Villa Stats.xlsx\",\n",
    "        r\"C:\\Users\\eviem\\OneDrive\\Documents\\Uni\\Module 2- Digital Maths and Programming\\Uni-Assignment\\Uni-Assignment\\Football Club Stats.zip_unzipped\\Football Club Stats\\Bournemouth Stats.xlsx\",\n",
    "        r\"C:\\Users\\eviem\\OneDrive\\Documents\\Uni\\Module 2- Digital Maths and Programming\\Uni-Assignment\\Uni-Assignment\\Football Club Stats.zip_unzipped\\Football Club Stats\\Brentford Stats.xlsx\",\n",
    "        r\"C:\\Users\\eviem\\OneDrive\\Documents\\Uni\\Module 2- Digital Maths and Programming\\Uni-Assignment\\Uni-Assignment\\Football Club Stats.zip_unzipped\\Football Club Stats\\Brighton Stats.xlsx\",\n",
    "        r\"C:\\Users\\eviem\\OneDrive\\Documents\\Uni\\Module 2- Digital Maths and Programming\\Uni-Assignment\\Uni-Assignment\\Football Club Stats.zip_unzipped\\Football Club Stats\\Burnley Stats.xlsx\",\n",
    "        r\"C:\\Users\\eviem\\OneDrive\\Documents\\Uni\\Module 2- Digital Maths and Programming\\Uni-Assignment\\Uni-Assignment\\Football Club Stats.zip_unzipped\\Football Club Stats\\Chelsea Stats.xlsx\",\n",
    "        r\"C:\\Users\\eviem\\OneDrive\\Documents\\Uni\\Module 2- Digital Maths and Programming\\Uni-Assignment\\Uni-Assignment\\Football Club Stats.zip_unzipped\\Football Club Stats\\Crystal Palace Stats.xlsx\",\n",
    "        r\"C:\\Users\\eviem\\OneDrive\\Documents\\Uni\\Module 2- Digital Maths and Programming\\Uni-Assignment\\Uni-Assignment\\Football Club Stats.zip_unzipped\\Football Club Stats\\Everton Stats.xlsx\",\n",
    "        r\"C:\\Users\\eviem\\OneDrive\\Documents\\Uni\\Module 2- Digital Maths and Programming\\Uni-Assignment\\Uni-Assignment\\Football Club Stats.zip_unzipped\\Football Club Stats\\Fulham Stats.xlsx\",\n",
    "        r\"C:\\Users\\eviem\\OneDrive\\Documents\\Uni\\Module 2- Digital Maths and Programming\\Uni-Assignment\\Uni-Assignment\\Football Club Stats.zip_unzipped\\Football Club Stats\\Ipswich Stats.xlsx\",\n",
    "        r\"C:\\Users\\eviem\\OneDrive\\Documents\\Uni\\Module 2- Digital Maths and Programming\\Uni-Assignment\\Uni-Assignment\\Football Club Stats.zip_unzipped\\Football Club Stats\\Leicester Stats.xlsx\",\n",
    "        r\"C:\\Users\\eviem\\OneDrive\\Documents\\Uni\\Module 2- Digital Maths and Programming\\Uni-Assignment\\Uni-Assignment\\Football Club Stats.zip_unzipped\\Football Club Stats\\Liverpool Stats.xlsx\",\n",
    "        r\"C:\\Users\\eviem\\OneDrive\\Documents\\Uni\\Module 2- Digital Maths and Programming\\Uni-Assignment\\Uni-Assignment\\Football Club Stats.zip_unzipped\\Football Club Stats\\Luton Stats.xlsx\",\n",
    "        r\"C:\\Users\\eviem\\OneDrive\\Documents\\Uni\\Module 2- Digital Maths and Programming\\Uni-Assignment\\Uni-Assignment\\Football Club Stats.zip_unzipped\\Football Club Stats\\Manchester City Stats.xlsx\",\n",
    "        r\"C:\\Users\\eviem\\OneDrive\\Documents\\Uni\\Module 2- Digital Maths and Programming\\Uni-Assignment\\Uni-Assignment\\Football Club Stats.zip_unzipped\\Football Club Stats\\Manchester United Stats.xlsx\",\n",
    "        r\"C:\\Users\\eviem\\OneDrive\\Documents\\Uni\\Module 2- Digital Maths and Programming\\Uni-Assignment\\Uni-Assignment\\Football Club Stats.zip_unzipped\\Football Club Stats\\Newcastle Stats.xlsx\",\n",
    "        r\"C:\\Users\\eviem\\OneDrive\\Documents\\Uni\\Module 2- Digital Maths and Programming\\Uni-Assignment\\Uni-Assignment\\Football Club Stats.zip_unzipped\\Football Club Stats\\Nottingham Stats.xlsx\",\n",
    "        r\"C:\\Users\\eviem\\OneDrive\\Documents\\Uni\\Module 2- Digital Maths and Programming\\Uni-Assignment\\Uni-Assignment\\Football Club Stats.zip_unzipped\\Football Club Stats\\Sheffield United Stats.xlsx\",\n",
    "        r\"C:\\Users\\eviem\\OneDrive\\Documents\\Uni\\Module 2- Digital Maths and Programming\\Uni-Assignment\\Uni-Assignment\\Football Club Stats.zip_unzipped\\Football Club Stats\\Southampton Stats.xlsx\",\n",
    "        r\"C:\\Users\\eviem\\OneDrive\\Documents\\Uni\\Module 2- Digital Maths and Programming\\Uni-Assignment\\Uni-Assignment\\Football Club Stats.zip_unzipped\\Football Club Stats\\Tottenham Stats.xlsx\",\n",
    "        r\"C:\\Users\\eviem\\OneDrive\\Documents\\Uni\\Module 2- Digital Maths and Programming\\Uni-Assignment\\Uni-Assignment\\Football Club Stats.zip_unzipped\\Football Club Stats\\West Ham Stats.xlsx\",\n",
    "        r\"C:\\Users\\eviem\\OneDrive\\Documents\\Uni\\Module 2- Digital Maths and Programming\\Uni-Assignment\\Uni-Assignment\\Football Club Stats.zip_unzipped\\Football Club Stats\\Wolverhampton Stats.xlsx\"]\n",
    "    \n",
    "     # Read the first file to start the DataFrame\n",
    "    df = pd.read_excel(file_paths[0])\n",
    "\n",
    "    # Loop through the rest and append\n",
    "    for path in file_paths[1:]:\n",
    "        df = pd.concat([df, pd.read_excel(path)], ignore_index=True, sort=False)\n",
    "\n",
    "    # Remove any rows with null values\n",
    "    df.dropna(inplace=True)\n",
    "\n",
    "    # Save the combined DataFrame to a new Excel file\n",
    "    df.to_excel(\"Combined Football Club Stats.xlsx\", index=False)"
   ]
  },
  {
   "cell_type": "code",
   "execution_count": 4,
   "id": "f5360c3e",
   "metadata": {},
   "outputs": [
    {
     "name": "stdout",
     "output_type": "stream",
     "text": [
      "Welcome to the Premier League Data Analyser!\n",
      "Options:\n",
      "1. View team stats\n",
      "2. View league standings\n",
      "3. View graphs\n",
      "4. Exit\n"
     ]
    },
    {
     "name": "stdout",
     "output_type": "stream",
     "text": [
      "Showing stats for Manchester United (function not yet implemented).\n"
     ]
    }
   ],
   "source": [
    "def display_team_stats(team_name):\n",
    "    print(f\"Showing stats for {team_name} (function not yet implemented).\")\n",
    "def display_league_standings():\n",
    "    print(\"Showing league standings (function not yet implemented).\")\n",
    "def display_graphs():\n",
    "    print(\"Displaying graphs (function not yet implemented).\")\n",
    "\n",
    "def main():\n",
    "   print(\"Welcome to the Premier League Data Analyser!\")\n",
    "   print(\"Options:\")\n",
    "   print(\"1. View team stats\")\n",
    "   print(\"2. View league standings\")\n",
    "   print(\"3. View graphs\")\n",
    "   print(\"4. Exit\")\n",
    "   \n",
    "   user_input = input(\"Enter your choice (1/2/3/4): \").strip()\n",
    " \n",
    "   if user_input == \"1\":\n",
    "       team_name = input(\"Enter the team name: \").strip()\n",
    "       display_team_stats(team_name)\n",
    "   elif user_input == \"2\":\n",
    "       display_league_standings()\n",
    "   elif user_input == \"3\":\n",
    "       display_graphs()\n",
    "   elif user_input == \"4\":\n",
    "       print(\"Exiting the analyser. Goodbye!\")\n",
    "   else:\n",
    "       print(\"Invalid input. Please try again.\")\n",
    " \n",
    "if __name__ == \"__main__\":\n",
    "   main()"
   ]
  }
 ],
 "metadata": {
  "kernelspec": {
   "display_name": "base",
   "language": "python",
   "name": "python3"
  },
  "language_info": {
   "codemirror_mode": {
    "name": "ipython",
    "version": 3
   },
   "file_extension": ".py",
   "mimetype": "text/x-python",
   "name": "python",
   "nbconvert_exporter": "python",
   "pygments_lexer": "ipython3",
   "version": "3.12.7"
  }
 },
 "nbformat": 4,
 "nbformat_minor": 5
}
