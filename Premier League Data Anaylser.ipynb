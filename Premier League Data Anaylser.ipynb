{
 "cells": [
  {
   "cell_type": "code",
   "execution_count": 28,
   "id": "7fe64c37",
   "metadata": {},
   "outputs": [],
   "source": [
    "import pandas as pd\n",
    "\n",
    "# Existing Excel file\n",
    "file_path = r\"C:\\Users\\eviem\\OneDrive\\Documents\\Uni\\Module 2- Digital Maths and Programming\\Uni-Assignment\\Uni-Assignment\\Football Club Stats.zip_unzipped\\Football Club Stats\\Luton Stats.xlsx\"\n",
    "\n",
    "# New data to append\n",
    "new_data = pd.DataFrame({\n",
    "    'Season': ['23/24'],\n",
    "    'Team': ['Luton'],\n",
    "    'Table Position': [18],\n",
    "    'Points': [26],\n",
    "    'Matches Played': [38],\n",
    "    'Wins': [6],\n",
    "    'Losses': [24],\n",
    "    'Draws': [8],\n",
    "    'Goals For': [52],\n",
    "    'Goals Against': [85],\n",
    "    'Goal Difference': [-33],\n",
    "    'Top Scorer': ['Carlton Morris'],\n",
    "    'Red Cards': [0],\n",
    "    'Yellow Cards': [71]})\n",
    "\n",
    "# Read the existing Excel file\n",
    "df_existing = pd.read_excel(file_path)\n",
    "\n",
    "# Append the new data to the existing DataFrame\n",
    "df_new = pd.DataFrame(new_data)\n",
    "df_combined = pd.concat([df_existing, df_new], ignore_index=True)\n",
    "\n",
    "# Write the updated DataFrame back to the Excel file\n",
    "df_combined.to_excel(file_path, index=False)"
   ]
  },
  {
   "cell_type": "code",
   "execution_count": 17,
   "id": "dfac4e5f",
   "metadata": {},
   "outputs": [],
   "source": [
    "from numpy import append\n",
    "import pandas as pd\n",
    "\n",
    "def main():\n",
    "    pass\n",
    "\n",
    "def Premier_League_Data_Anaylser():\n",
    "    append\n",
    "    df = pd.read_excel(\"./Football Club Stats/Liverpool Stats.xlsx\")\n",
    "   \n",
    "    for i in range(2, 24):\n",
    "        df = pd.concat([df,  pd.read_excel(f\"./Football Club Stats/sample{i}.xlsx\")], ignore_index=True, sort=False)\n",
    " \n",
    "    df.dropna(inplace=True)\n",
    " \n",
    "    print(df[\"Season\"].describe())\n",
    " \n",
    "    df.to_excel(\"Combined Football Club Stats.xlsx\", index=False)\n",
    " \n",
    "if __name__ == \"__main__\":\n",
    "    main() "
   ]
  },
  {
   "cell_type": "code",
   "execution_count": 18,
   "id": "f5360c3e",
   "metadata": {},
   "outputs": [
    {
     "name": "stdout",
     "output_type": "stream",
     "text": [
      "Welcome to the Premier League Data Analyser!\n",
      "Options:\n",
      "1. View team stats\n",
      "2. View league standings\n",
      "3. View graphs\n",
      "4. Exit\n"
     ]
    },
    {
     "ename": "KeyboardInterrupt",
     "evalue": "Interrupted by user",
     "output_type": "error",
     "traceback": [
      "\u001b[1;31m---------------------------------------------------------------------------\u001b[0m",
      "\u001b[1;31mKeyboardInterrupt\u001b[0m                         Traceback (most recent call last)",
      "Cell \u001b[1;32mIn[18], line 31\u001b[0m\n\u001b[0;32m     28\u001b[0m        \u001b[38;5;28mprint\u001b[39m(\u001b[38;5;124m\"\u001b[39m\u001b[38;5;124mInvalid input. Please try again.\u001b[39m\u001b[38;5;124m\"\u001b[39m)\n\u001b[0;32m     30\u001b[0m \u001b[38;5;28;01mif\u001b[39;00m \u001b[38;5;18m__name__\u001b[39m \u001b[38;5;241m==\u001b[39m \u001b[38;5;124m\"\u001b[39m\u001b[38;5;124m__main__\u001b[39m\u001b[38;5;124m\"\u001b[39m:\n\u001b[1;32m---> 31\u001b[0m    main()\n",
      "Cell \u001b[1;32mIn[18], line 16\u001b[0m, in \u001b[0;36mmain\u001b[1;34m()\u001b[0m\n\u001b[0;32m     13\u001b[0m \u001b[38;5;28mprint\u001b[39m(\u001b[38;5;124m\"\u001b[39m\u001b[38;5;124m3. View graphs\u001b[39m\u001b[38;5;124m\"\u001b[39m)\n\u001b[0;32m     14\u001b[0m \u001b[38;5;28mprint\u001b[39m(\u001b[38;5;124m\"\u001b[39m\u001b[38;5;124m4. Exit\u001b[39m\u001b[38;5;124m\"\u001b[39m)\n\u001b[1;32m---> 16\u001b[0m user_input \u001b[38;5;241m=\u001b[39m \u001b[38;5;28minput\u001b[39m(\u001b[38;5;124m\"\u001b[39m\u001b[38;5;124mEnter your choice (1/2/3/4): \u001b[39m\u001b[38;5;124m\"\u001b[39m)\u001b[38;5;241m.\u001b[39mstrip()\n\u001b[0;32m     18\u001b[0m \u001b[38;5;28;01mif\u001b[39;00m user_input \u001b[38;5;241m==\u001b[39m \u001b[38;5;124m\"\u001b[39m\u001b[38;5;124m1\u001b[39m\u001b[38;5;124m\"\u001b[39m:\n\u001b[0;32m     19\u001b[0m     team_name \u001b[38;5;241m=\u001b[39m \u001b[38;5;28minput\u001b[39m(\u001b[38;5;124m\"\u001b[39m\u001b[38;5;124mEnter the team name: \u001b[39m\u001b[38;5;124m\"\u001b[39m)\u001b[38;5;241m.\u001b[39mstrip()\n",
      "File \u001b[1;32mc:\\Users\\eviem\\anaconda3\\Lib\\site-packages\\ipykernel\\kernelbase.py:1262\u001b[0m, in \u001b[0;36mKernel.raw_input\u001b[1;34m(self, prompt)\u001b[0m\n\u001b[0;32m   1260\u001b[0m     msg \u001b[38;5;241m=\u001b[39m \u001b[38;5;124m\"\u001b[39m\u001b[38;5;124mraw_input was called, but this frontend does not support input requests.\u001b[39m\u001b[38;5;124m\"\u001b[39m\n\u001b[0;32m   1261\u001b[0m     \u001b[38;5;28;01mraise\u001b[39;00m StdinNotImplementedError(msg)\n\u001b[1;32m-> 1262\u001b[0m \u001b[38;5;28;01mreturn\u001b[39;00m \u001b[38;5;28mself\u001b[39m\u001b[38;5;241m.\u001b[39m_input_request(\n\u001b[0;32m   1263\u001b[0m     \u001b[38;5;28mstr\u001b[39m(prompt),\n\u001b[0;32m   1264\u001b[0m     \u001b[38;5;28mself\u001b[39m\u001b[38;5;241m.\u001b[39m_parent_ident[\u001b[38;5;124m\"\u001b[39m\u001b[38;5;124mshell\u001b[39m\u001b[38;5;124m\"\u001b[39m],\n\u001b[0;32m   1265\u001b[0m     \u001b[38;5;28mself\u001b[39m\u001b[38;5;241m.\u001b[39mget_parent(\u001b[38;5;124m\"\u001b[39m\u001b[38;5;124mshell\u001b[39m\u001b[38;5;124m\"\u001b[39m),\n\u001b[0;32m   1266\u001b[0m     password\u001b[38;5;241m=\u001b[39m\u001b[38;5;28;01mFalse\u001b[39;00m,\n\u001b[0;32m   1267\u001b[0m )\n",
      "File \u001b[1;32mc:\\Users\\eviem\\anaconda3\\Lib\\site-packages\\ipykernel\\kernelbase.py:1305\u001b[0m, in \u001b[0;36mKernel._input_request\u001b[1;34m(self, prompt, ident, parent, password)\u001b[0m\n\u001b[0;32m   1302\u001b[0m \u001b[38;5;28;01mexcept\u001b[39;00m \u001b[38;5;167;01mKeyboardInterrupt\u001b[39;00m:\n\u001b[0;32m   1303\u001b[0m     \u001b[38;5;66;03m# re-raise KeyboardInterrupt, to truncate traceback\u001b[39;00m\n\u001b[0;32m   1304\u001b[0m     msg \u001b[38;5;241m=\u001b[39m \u001b[38;5;124m\"\u001b[39m\u001b[38;5;124mInterrupted by user\u001b[39m\u001b[38;5;124m\"\u001b[39m\n\u001b[1;32m-> 1305\u001b[0m     \u001b[38;5;28;01mraise\u001b[39;00m \u001b[38;5;167;01mKeyboardInterrupt\u001b[39;00m(msg) \u001b[38;5;28;01mfrom\u001b[39;00m \u001b[38;5;28;01mNone\u001b[39;00m\n\u001b[0;32m   1306\u001b[0m \u001b[38;5;28;01mexcept\u001b[39;00m \u001b[38;5;167;01mException\u001b[39;00m:\n\u001b[0;32m   1307\u001b[0m     \u001b[38;5;28mself\u001b[39m\u001b[38;5;241m.\u001b[39mlog\u001b[38;5;241m.\u001b[39mwarning(\u001b[38;5;124m\"\u001b[39m\u001b[38;5;124mInvalid Message:\u001b[39m\u001b[38;5;124m\"\u001b[39m, exc_info\u001b[38;5;241m=\u001b[39m\u001b[38;5;28;01mTrue\u001b[39;00m)\n",
      "\u001b[1;31mKeyboardInterrupt\u001b[0m: Interrupted by user"
     ]
    }
   ],
   "source": [
    "def display_team_stats(team_name):\n",
    "    print(f\"Showing stats for {team_name} (function not yet implemented).\")\n",
    "def display_league_standings():\n",
    "    print(\"Showing league standings (function not yet implemented).\")\n",
    "def display_graphs():\n",
    "    print(\"Displaying graphs (function not yet implemented).\")\n",
    "\n",
    "def main():\n",
    "   print(\"Welcome to the Premier League Data Analyser!\")\n",
    "   print(\"Options:\")\n",
    "   print(\"1. View team stats\")\n",
    "   print(\"2. View league standings\")\n",
    "   print(\"3. View graphs\")\n",
    "   print(\"4. Exit\")\n",
    "   \n",
    "   user_input = input(\"Enter your choice (1/2/3/4): \").strip()\n",
    " \n",
    "   if user_input == \"1\":\n",
    "       team_name = input(\"Enter the team name: \").strip()\n",
    "       display_team_stats(team_name)\n",
    "   elif user_input == \"2\":\n",
    "       display_league_standings()\n",
    "   elif user_input == \"3\":\n",
    "       display_graphs()\n",
    "   elif user_input == \"4\":\n",
    "       print(\"Exiting the analyser. Goodbye!\")\n",
    "   else:\n",
    "       print(\"Invalid input. Please try again.\")\n",
    " \n",
    "if __name__ == \"__main__\":\n",
    "   main()"
   ]
  }
 ],
 "metadata": {
  "kernelspec": {
   "display_name": "base",
   "language": "python",
   "name": "python3"
  },
  "language_info": {
   "codemirror_mode": {
    "name": "ipython",
    "version": 3
   },
   "file_extension": ".py",
   "mimetype": "text/x-python",
   "name": "python",
   "nbconvert_exporter": "python",
   "pygments_lexer": "ipython3",
   "version": "3.12.7"
  }
 },
 "nbformat": 4,
 "nbformat_minor": 5
}
