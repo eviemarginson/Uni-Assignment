{
 "cells": [
  {
   "cell_type": "code",
   "execution_count": 8,
   "id": "f5360c3e",
   "metadata": {},
   "outputs": [
    {
     "name": "stdout",
     "output_type": "stream",
     "text": [
      "Welcome to the Premier League Data Analyser!\n",
      "Options:\n",
      "1. View team stats\n",
      "2. View league standings\n",
      "3. View graphs\n",
      "4. Exit\n",
      "Showing stats for Manchester United (function not yet implemented).\n"
     ]
    }
   ],
   "source": [
    "def display_team_stats(team_name):\n",
    "    print(f\"Showing stats for {team_name} (function not yet implemented).\")\n",
    "def display_league_standings():\n",
    "    print(\"Showing league standings (function not yet implemented).\")\n",
    "def display_graphs():\n",
    "    print(\"Displaying graphs (function not yet implemented).\")\n",
    "\n",
    "def main():\n",
    "   print(\"Welcome to the Premier League Data Analyser!\")\n",
    "   print(\"Options:\")\n",
    "   print(\"1. View team stats\")\n",
    "   print(\"2. View league standings\")\n",
    "   print(\"3. View graphs\")\n",
    "   print(\"4. Exit\")\n",
    "   \n",
    "   user_input = input(\"Enter your choice (1/2/3/4): \").strip()\n",
    " \n",
    "   if user_input == \"1\":\n",
    "       team_name = input(\"Enter the team name: \").strip()\n",
    "       display_team_stats(team_name)\n",
    "   elif user_input == \"2\":\n",
    "       display_league_standings()\n",
    "   elif user_input == \"3\":\n",
    "       display_graphs()\n",
    "   elif user_input == \"4\":\n",
    "       print(\"Exiting the analyser. Goodbye!\")\n",
    "   else:\n",
    "       print(\"Invalid input. Please try again.\")\n",
    " \n",
    "if __name__ == \"__main__\":\n",
    "   main()"
   ]
  }
 ],
 "metadata": {
  "kernelspec": {
   "display_name": "base",
   "language": "python",
   "name": "python3"
  },
  "language_info": {
   "codemirror_mode": {
    "name": "ipython",
    "version": 3
   },
   "file_extension": ".py",
   "mimetype": "text/x-python",
   "name": "python",
   "nbconvert_exporter": "python",
   "pygments_lexer": "ipython3",
   "version": "3.12.7"
  }
 },
 "nbformat": 4,
 "nbformat_minor": 5
}
